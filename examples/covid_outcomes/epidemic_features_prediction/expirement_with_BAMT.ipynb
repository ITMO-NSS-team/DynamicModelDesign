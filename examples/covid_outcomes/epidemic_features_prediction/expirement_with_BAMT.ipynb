{
 "cells": [
  {
   "cell_type": "code",
   "execution_count": 1,
   "id": "577060cf",
   "metadata": {},
   "outputs": [],
   "source": [
    "import pandas as pd\n",
    "import numpy as np\n",
    "import matplotlib.pyplot as plt\n",
    "import bamt\n",
    "import typing\n",
    "from sklearn.model_selection import train_test_split\n",
    "from sklearn.preprocessing import LabelEncoder, QuantileTransformer\n",
    "from sklearn.decomposition import PCA\n",
    "from sklearn.metrics import accuracy_score, f1_score, mean_squared_error\n",
    "from sklearn.experimental import enable_iterative_imputer\n",
    "from sklearn.impute import IterativeImputer\n",
    "from sklearn.linear_model import LinearRegression"
   ]
  },
  {
   "cell_type": "code",
   "execution_count": 2,
   "id": "49b051e2",
   "metadata": {},
   "outputs": [],
   "source": [
    "\"\"\"\n",
    "Применим биннинг\n",
    "\"\"\"\n",
    "def binning(x: pd.Series, thresh: int = 5) -> typing.Union[typing.List, pd.Series]:\n",
    "    if x.name[:-2] == 'duration_treatment':\n",
    "        return pd.qcut(x, 8, labels=False, duplicates='drop')\n",
    "\n",
    "    if x.unique().shape[0] > thresh:\n",
    "        return pd.qcut(x, thresh, labels=False, duplicates='drop')\n",
    "    else:\n",
    "        return round(x)\n",
    "\n",
    "\n",
    "def fill_with_mice(x: pd.Series):\n",
    "    lr = LinearRegression()\n",
    "    imp = IterativeImputer(estimator=lr,missing_values=np.nan, \n",
    "                           max_iter=50, \n",
    "                           verbose=0, \n",
    "                           imputation_order='roman',\n",
    "                           skip_complete=True,\n",
    "                           add_indicator=True,\n",
    "                           random_state=0)\n",
    "    return pd.Series(imp.fit_transform(x.to_numpy().reshape(1, -1))[0])"
   ]
  },
  {
   "cell_type": "code",
   "execution_count": 3,
   "id": "0afedd25",
   "metadata": {},
   "outputs": [],
   "source": [
    "df = pd.read_csv(r'data\\patients_data_7_to_7_with_therapy.csv')"
   ]
  },
  {
   "cell_type": "code",
   "execution_count": 4,
   "id": "28cfa98e",
   "metadata": {},
   "outputs": [],
   "source": [
    "#Создаем словарь, при сохранении матрицы смежности, переводим фичи на английский\n",
    "translation_dict = {\n",
    "     'Фибриноген': 'Fibrinogen',\n",
    "     'Калий': 'Potassium',\n",
    "     'PCT- Тромбокрит' : 'PCT- Thrombocrit',\n",
    "     'Альбумин' : 'Albumen',\n",
    "     'ощущение заложенности в грудной клетке': 'Feeling of congestion in the chest',\n",
    "     'Гранулоциты#' : 'Granulocytes#',\n",
    "     'HGB- Гемоглобин': 'HGB',\n",
    "     'WBC- Лейкоциты': 'WBC',\n",
    "     'ОАМ Уробилиноген': 'Urinalysis Urobilinogen',\n",
    "     'P-LCR- Отнош.крупных тр. к общ.кол-ву': 'P-LCR',\n",
    "     'К+ (вена)': 'K+ (vein)',\n",
    "     'степень_тяжести_течения': 'Severity of the course',\n",
    "     'ОАМ Удельная плотность': 'Urinalysis Specific Density',\n",
    "     'Вес': 'Weight',\n",
    "     'Эозинофилы#': 'Eosinophils',\n",
    "     'ОАМ Кислотность (прибор)': 'Urinalysis Acidity',\n",
    "     'Площадь поверхности тела': 'Body surface area',\n",
    "     'АСТ': 'AST',\n",
    "     'Кислородотерапия': 'Oxygen therapy',\n",
    "     'Состояние_пациента': 'Patient condition',\n",
    "     'АЧТВ': 'APTT',\n",
    "     'RBC- Эритроциты': 'RBC',\n",
    "     'Общий белок': 'Total protein',\n",
    "     'ЧСС': 'Heart rate',\n",
    "     'АЛТ': 'Alanineaminotransferase',\n",
    "     'Нейтрофилы#': 'Neutrophils#',\n",
    "     'PLT- Тромбоциты': 'PLT',\n",
    "     'Незрелые гранулоциты (IG%)': 'IG%',\n",
    "     'С-реактивный белок (СРБ)': 'C-reactive protein',\n",
    "     'Эозинофилы%': 'Eosinophils%',\n",
    "     'статус_ковида': 'COVID-19 status',\n",
    "     'MPV- Средн.объем тромбоцитов': 'MPV',\n",
    "     'Моноциты%': 'Monocytes%',\n",
    "     'ОАМ Билирубин': 'Urinalysis Bilirubin',\n",
    "     'С-реактивный белок': 'C-reactive protein',\n",
    "     'Пневмония': 'Pneumonia',\n",
    "     'HCT- Гематокрит': 'HCT',\n",
    "     'Положительный результат лабораторного исследования на наличие РНК SARS-CoV-2 с применением методов амплификации нуклеиновых кислот вне зависимости от клинических проявлений': 'positive SARS-CoV-2',\n",
    "     'Cтепень тяжести по КТ': 'Severity according to CT scan' ,\n",
    "     'ОАМ Белок': 'Urinalysis Protein',\n",
    "     'ранее_болел_ковидом': 'Had COVID previously',\n",
    "     'температура тела выше 37,5 °C': 'Body temperature higher than 37,5 °C',\n",
    "     'С-реактивный белок (СРБ) колич.': 'C-reactive protein #',\n",
    "     'Температура': 'Temperature',\n",
    "     'возвращение из зарубежной поездки за 14 дней до появления симптомов': 'Returning from a foreign trip 14 days before the onset of symptoms',\n",
    "     'Д-димер': 'D-dimer',\n",
    "     'ЧДД': 'Respiratory rate',\n",
    "     'Билирубин общий': 'Bilirubin total',\n",
    "     'Мочевина': 'Urea',\n",
    "     'Лактатдегидрогеназа': 'Lactatedehydrogenase',\n",
    "     'ОАМ Лейкоциты': 'Urinalysis leukocytes',\n",
    "     'dad': 'dad',\n",
    "     'Наличие клинических проявлений тяжелой пневмонии': 'The presence of clinical manifestations of severe pneumonia',\n",
    "     'Лимфоциты#': 'Lymphocytes#',\n",
    "     'Глюкоза': 'Glucose',\n",
    "     'Процент поражения легочной ткани': 'Percentage of lung tissue damage',\n",
    "     'Пульс': 'Pulse',\n",
    "     'Лимфоциты%': 'Lymphocytes%',\n",
    "     'вакцинировался_от_пневмонии': 'Vaccinated against pneumonia',\n",
    "     'Базофилы#': 'Basophils',\n",
    "     'PDW- Индекс расп.по объему тр.': 'PDW',\n",
    "     'Сатурация': 'Saturation',\n",
    "     'головная боль': 'Headache',\n",
    "     'тип_дыхания': 'Type of breathing',\n",
    "     'Протромбин (по Квику)': 'Prothrombin (according to Quick)',\n",
    "     'вакцинировался_от_гриппа': 'Vaccinated against influenza',\n",
    "     'Ферритин': 'Ferritin',\n",
    "     'Моноциты#': 'Monocytes#',\n",
    "     'ОАМ Эритроциты': 'Urinalysis erythrocytes',\n",
    "     'Протромбиновое время': 'Prothrombin time',\n",
    "     'Креатинин': 'Creatinine',\n",
    "     'ОАМ Глюкоза': 'Urinalysis glucose',\n",
    "     'ОАМ Кетоновые тела': 'Urinalysis Ketone bodie',\n",
    "     'Прокальцитониновый тест': 'Procalcitonin test',\n",
    "     'Лактат': 'Lactate',\n",
    "     'MCV- Средн.объем эритроцитов': 'MCV',\n",
    "     'ИБС': 'Coronary artery disease',\n",
    "     'cad': 'cad',\n",
    "     'Рост': 'Height',\n",
    "     'Гранулоциты%': 'Granulocytes%',\n",
    "     'снижение_сознания': 'Decrease of consciousness',\n",
    "     'Нейтрофилы%': 'Neutrophils',\n",
    "     'Незрелые гранулоциты (IG#)': 'IG#',\n",
    "     'Базофилы%': 'Basophils%',\n",
    "     'МНО': 'INR',\n",
    "     'outcome': 'Uutcome',\n",
    "     'result': 'Result',\n",
    "     'duration_treatment': 'Duration_treatment',\n",
    "     'duration_diseases': 'Duration_diseases',\n",
    "     'age': 'Age',\n",
    "     'gender': 'Gender',\n",
    "     'Лопинавир+Ритонавир': 'Lopinavir and Ritonavir ',\n",
    "     'Азитромицин': 'Azithromycin ', \n",
    "     'Интерферон_бета-1b': 'Interferon_beta_b',\n",
    "     'Бисопролол': 'Bisoprolol',\n",
    "     'Бисопролол-Тева': 'Bisoprolol-Teva', \n",
    "     'Бисопролол-Прана': 'Bisoprolol-Prana', \n",
    "     'Бисопролол-Лугал': 'Bisoprolol-Lugal', \n",
    "     'Карведилол': 'Carvedilol',\n",
    "     'Небиволол': 'Nebivolol', \n",
    "     'Метопролол': 'Metoprolol',\n",
    "     'Гепарин-натрий_Браун': 'Heparin-sodium Brown ',\n",
    "     'Гепарин': 'Heparin', \n",
    "     'Парацетамол': 'Paracetamol'\n",
    "     \n",
    "}"
   ]
  },
  {
   "cell_type": "code",
   "execution_count": 5,
   "id": "932fcb98",
   "metadata": {},
   "outputs": [
    {
     "name": "stderr",
     "output_type": "stream",
     "text": [
      "C:\\Users\\21306\\AppData\\Local\\Temp\\ipykernel_7912\\680662705.py:4: SettingWithCopyWarning: \n",
      "A value is trying to be set on a copy of a slice from a DataFrame\n",
      "\n",
      "See the caveats in the documentation: https://pandas.pydata.org/pandas-docs/stable/user_guide/indexing.html#returning-a-view-versus-a-copy\n",
      "  df.result[df.result == 1] = 0\n",
      "C:\\Users\\21306\\AppData\\Local\\Temp\\ipykernel_7912\\680662705.py:5: SettingWithCopyWarning: \n",
      "A value is trying to be set on a copy of a slice from a DataFrame\n",
      "\n",
      "See the caveats in the documentation: https://pandas.pydata.org/pandas-docs/stable/user_guide/indexing.html#returning-a-view-versus-a-copy\n",
      "  df.result[df.result == 2] = 1\n"
     ]
    }
   ],
   "source": [
    "#Рассмотрим только пациентов с позитивными и негативными исходами\n",
    "df = df.drop(index = df[df.result== 0].index).reset_index(drop=True)\n",
    "\n",
    "df.result[df.result == 1] = 0\n",
    "df.result[df.result == 2] = 1"
   ]
  },
  {
   "cell_type": "code",
   "execution_count": 6,
   "id": "e8a2ff86",
   "metadata": {},
   "outputs": [],
   "source": [
    "#Пробую улучшить duration_treatment\n",
    "#Выбираю признаки, которые уменьшают ошибку по Duration_treatment\n",
    "\n",
    "#Признаки были отобраны с помощью RFE(Recursive feature elimination)\n",
    "\n",
    "df = df[['Unnamed: 0','t_point',\n",
    "       'Протромбин (по Квику)', 'Незрелые гранулоциты (IG#)',\n",
    "       'Билирубин общий', 'PLT- Тромбоциты', 'МНО', 'вакцинировался_от_гриппа',\n",
    "       'RBC- Эритроциты', 'MCV- Средн.объем эритроцитов',\n",
    "       'PDW- Индекс расп.по объему тр.', 'Нейтрофилы#',\n",
    "       'С-реактивный белок (СРБ) колич.',\n",
    "       'ощущение заложенности в грудной клетке', 'Нейтрофилы%',\n",
    "       'Состояние_пациента', 'Cтепень тяжести по КТ', 'С-реактивный белок',\n",
    "       'ОАМ Глюкоза', 'Мочевина', 'насморк и другие катаральные симптомы',\n",
    "       'Креатинин', 'Балл по NEWS', 'P-LCR- Отнош.крупных тр. к общ.кол-ву',\n",
    "       'Пульс', 'Лимфоциты%', 'Рост', 'АСТ', 'ЧСС', 'Сатурация',\n",
    "       'Гранулоциты#', 'PCT- Тромбокрит', 'WBC- Лейкоциты', 'Фибриноген',\n",
    "       'Лактатдегидрогеназа', 'ОАМ Эритроциты', 'ОАМ Уробилиноген',\n",
    "       'Базофилы#', 'АЛТ', 'Ферритин', 'слабость.1', 'HGB- Гемоглобин',\n",
    "       'Процент поражения легочной ткани', 'MPV- Средн.объем тромбоцитов',\n",
    "       'Моноциты%', 'outcome', 'age', 'gender','result',\n",
    "       'Гидроксихлорохин', 'Фраксипарин', 'Клексан', 'Амброксол',\n",
    "       'Интерферон_бета-1b', 'Бисопролол', 'Метопролол',\n",
    "       'duration_treatment']]"
   ]
  },
  {
   "cell_type": "code",
   "execution_count": 7,
   "id": "12e7dc5f",
   "metadata": {},
   "outputs": [],
   "source": [
    "#Разделяю на df 4 временных интервалов\n",
    "df_t0 = df[df.t_point == 't_0'][df[df.t_point == 't_0'].columns[2:]]\n",
    "df_t1 = df[df.t_point == 't_1'][df[df.t_point == 't_1'].columns[2:]]\n",
    "df_t2 = df[df.t_point == 't_2'][df[df.t_point == 't_2'].columns[2:]]\n",
    "df_t3 = df[df.t_point == 't_3'][df[df.t_point == 't_3'].columns[2:]]"
   ]
  },
  {
   "cell_type": "code",
   "execution_count": 8,
   "id": "2bff2041",
   "metadata": {},
   "outputs": [],
   "source": [
    "#Беру ненормализованные значения duration_treatment, чтобы позже добавить\n",
    "dur_t0 = df_t0.duration_treatment\n",
    "dur_t1 = df_t1.duration_treatment\n",
    "dur_t2 = df_t2.duration_treatment\n",
    "dur_t3 = df_t3.duration_treatment"
   ]
  },
  {
   "cell_type": "code",
   "execution_count": 9,
   "id": "0f8ad54c",
   "metadata": {},
   "outputs": [],
   "source": [
    "#Функция заполняет пропущенные значения, дискритизирует и разделяет на train, test\n",
    "def create_train_test_dataframes(df: pd.DataFrame,\n",
    "                                 time_moment: int, test_thresh: int = 0.3) -> typing.Tuple:\n",
    "\n",
    "\n",
    "    df = df.apply(fill_with_mice)\n",
    "\n",
    "    df = df.apply(binning)\n",
    "\n",
    "    df['mock'] = [0 for i in range(df.shape[0])]\n",
    "    X_train, X_test, y_train, y_test = train_test_split(df,\n",
    "                                                        df['mock'], \n",
    "                                                        test_size=test_thresh)\n",
    "\n",
    "    X_train.drop(columns=['mock', f'outcome'], inplace=True)\n",
    "\n",
    "    X_train.dropna(axis=1, inplace=True)\n",
    "    X_train = X_train.applymap(int)\n",
    "    X_test.drop(columns=['mock', f'outcome'], inplace=True)\n",
    "\n",
    "\n",
    "    X_test.dropna(axis=1, inplace=True)\n",
    "    X_test = X_test.applymap(int)\n",
    "    return X_train, X_test\n"
   ]
  },
  {
   "cell_type": "code",
   "execution_count": 10,
   "id": "6d7cda3d",
   "metadata": {},
   "outputs": [],
   "source": [
    "#Разделяю фреймы на test, train\n",
    "train_t0,test_t0 = create_train_test_dataframes(df_t0, 0)\n",
    "train_t1,test_t1 = create_train_test_dataframes(df_t1, 0)\n",
    "train_t2,test_t2 = create_train_test_dataframes(df_t2, 0)\n",
    "train_t3,test_t3 = create_train_test_dataframes(df_t3, 0)"
   ]
  },
  {
   "cell_type": "code",
   "execution_count": 11,
   "id": "aba23ef4",
   "metadata": {},
   "outputs": [],
   "source": [
    "#Добавляю ненормализированный Duration_treatment\n",
    "def duration_treatment_real(train_t0,df):\n",
    "    train_t0.duration_treatment = df.duration_treatment.iloc[train_t0.duration_treatment.index].values\n",
    "    return train_t0\n",
    "\n",
    "#train\n",
    "train_t0 = duration_treatment_real(train_t0,df)\n",
    "train_t1 = duration_treatment_real(train_t1,df)\n",
    "train_t2 = duration_treatment_real(train_t2,df)\n",
    "train_t3 = duration_treatment_real(train_t3,df)\n",
    "# train_t4 = duration_treatment_real(train_t4,df)\n",
    "\n",
    "#test\n",
    "test_t0 = duration_treatment_real(test_t0,df)\n",
    "test_t1 = duration_treatment_real(test_t1,df)\n",
    "test_t2 = duration_treatment_real(test_t2,df)\n",
    "test_t3 = duration_treatment_real(test_t3,df)\n",
    "# test_t4 = duration_treatment_real(test_t4,df)"
   ]
  },
  {
   "cell_type": "code",
   "execution_count": 12,
   "id": "b76219e1",
   "metadata": {},
   "outputs": [],
   "source": [
    "import bamt.Networks as Nets\n",
    "import bamt.Preprocessors as p\n",
    "\n",
    "from sklearn import preprocessing\n",
    "import matplotlib.pyplot as plt\n",
    "from pgmpy.estimators import K2Score\n",
    "\n",
    "#Создаем сеть\n",
    "\n",
    "encoder = preprocessing.LabelEncoder()\n",
    "discretizer = preprocessing.KBinsDiscretizer(n_bins=5, encode='ordinal', strategy='quantile')\n",
    "p = p.Preprocessor([('encoder', encoder), ('discretizer', discretizer)])\n",
    "\n",
    "\n",
    "def create_bn(df: pd.DataFrame):\n",
    "    \n",
    "    discretized_data, est = p.apply(df)\n",
    "    bn = Nets.DiscreteBN() # init BN\n",
    "    bn.add_nodes(p.info)\n",
    "\n",
    "    bn.add_edges(discretized_data, scoring_function=('BIC',)) # use mutual information sf implemented in BAMT\n",
    "    bn.fit_parameters(discretized_data)\n",
    "    print('Done!')\n",
    "    return bn"
   ]
  },
  {
   "cell_type": "code",
   "execution_count": 13,
   "id": "1c4a217b",
   "metadata": {},
   "outputs": [],
   "source": [
    "#Считаем метрики точности для получившейся модели\n",
    "from sklearn.metrics import mean_absolute_error\n",
    "predictions = {}\n",
    "\n",
    "def evaluate_bn(bn, test_df, indicator):\n",
    "#     discretized_data, est = p.apply(test_df)\n",
    "    columns = [f'result',f'duration_treatment']\n",
    "\n",
    "    validY = test_df[columns]\n",
    "    validX = test_df.drop(columns, axis=1)\n",
    "    predictions_mi = bn.predict(test=validX, parall_count=2)\n",
    "    predictions_mi = {key: list(map(int, value)) for key, value in predictions_mi.items()}\n",
    "    predictions[indicator] = predictions_mi\n",
    "    for column in columns:\n",
    "        if column == f'result':\n",
    "            print(f\"{column: <25} Accuracy:  {accuracy_score(validY[column], predictions_mi[column])}\")\n",
    "            print(f\"{column: <25} F1 score:  {f1_score(validY[column], predictions_mi[column], average='weighted')}\")\n",
    "        else:\n",
    "            print(f\"{column: <25} MAE:  {mean_absolute_error(validY[column], predictions_mi[column])}\")\n",
    "    return predictions"
   ]
  },
  {
   "cell_type": "code",
   "execution_count": 14,
   "id": "c0e31144",
   "metadata": {},
   "outputs": [],
   "source": [
    "#Сохраняем матрицу смежности и переводим фичи на английский\n",
    "def save_adjmat(bn,n):\n",
    "    bn_data = {}\n",
    "\n",
    "    with open(f'dbn_adjmat_without_durdis_{n}.csv', 'w') as f:\n",
    "        for index, bn in enumerate([bn], start=1):\n",
    "            data = {}\n",
    "            trans_nodes = []\n",
    "            i, j = 0, 0\n",
    "            for edge in bn.edges:\n",
    "                fst, snd = edge\n",
    "                try:\n",
    "                    new_edge = (translation_dict[fst], translation_dict[snd]) #Переводим название фичей\n",
    "                    f.write(','.join(new_edge) + '\\n')\n",
    "                except:\n",
    "                    pass\n",
    "        print('Excellent')"
   ]
  },
  {
   "cell_type": "code",
   "execution_count": 15,
   "id": "3d06a2f5",
   "metadata": {},
   "outputs": [
    {
     "name": "stdout",
     "output_type": "stream",
     "text": [
      "2022-11-22 20:20:01,389 | INFO     | Preprocessors.py-scan-0087 | No one column is continuous\n",
      "Done!\n",
      "Excellent\n"
     ]
    },
    {
     "name": "stderr",
     "output_type": "stream",
     "text": [
      "100%|██████████| 263/263 [00:11<00:00, 23.23it/s]\n"
     ]
    },
    {
     "name": "stdout",
     "output_type": "stream",
     "text": [
      "result                    Accuracy:  0.7452471482889734\n",
      "result                    F1 score:  0.8076350128600083\n",
      "duration_treatment        MAE:  9.543726235741445\n",
      "CPU times: total: 1min 29s\n",
      "Wall time: 3min 36s\n"
     ]
    }
   ],
   "source": [
    "%%time \n",
    "bn1 = create_bn(train_t0)\n",
    "    \n",
    "save_adjmat(bn1,0)\n",
    "\n",
    "pred_d0 = evaluate_bn(bn1, test_t0, 1)\n",
    "df_t0_predict = pd.DataFrame(list(pred_d0.values())[0])\n",
    "df_t0_predict['patients'] = list(df[df.index.isin(list(test_t0.index))]['Unnamed: 0'])\n",
    "df_t0_predict.to_csv('df_t0_predict_without_durdis.csv')"
   ]
  },
  {
   "cell_type": "code",
   "execution_count": null,
   "id": "db520b1e",
   "metadata": {
    "scrolled": true
   },
   "outputs": [
    {
     "name": "stdout",
     "output_type": "stream",
     "text": [
      "2022-11-22 20:23:37,608 | INFO     | Preprocessors.py-scan-0087 | No one column is continuous\n"
     ]
    }
   ],
   "source": [
    "%%time \n",
    "bn2 = create_bn(train_t1)\n",
    "    \n",
    "save_adjmat(bn2,1)\n",
    "\n",
    "pred_d1 = evaluate_bn(bn2, test_t1, 1)\n",
    "df_t1_predict = pd.DataFrame(list(pred_d1.values())[0])\n",
    "df_t1_predict['patients'] = list(df[df.index.isin(list(test_t1.index))]['Unnamed: 0'])\n",
    "df_t1_predict.to_csv('df_t1_predict_without_durdis.csv')"
   ]
  },
  {
   "cell_type": "code",
   "execution_count": null,
   "id": "a4de563b",
   "metadata": {},
   "outputs": [],
   "source": [
    "%%time \n",
    "bn3 = create_bn(train_t2)\n",
    "    \n",
    "save_adjmat(bn3,2)\n",
    "\n",
    "pred_d2 = evaluate_bn(bn3, test_t2, 1)\n",
    "df_t2_predict = pd.DataFrame(list(pred_d2.values())[0])\n",
    "df_t2_predict['patients'] = list(df[df.index.isin(list(test_t2.index))]['Unnamed: 0'])\n",
    "df_t2_predict.to_csv('df_t2_predict_without_durdis.csv')"
   ]
  },
  {
   "cell_type": "code",
   "execution_count": null,
   "id": "24acaf22",
   "metadata": {},
   "outputs": [],
   "source": [
    "%%time \n",
    "bn4 = create_bn(train_t3)\n",
    "    \n",
    "save_adjmat(bn4,3)\n",
    "\n",
    "pred_d3 = evaluate_bn(bn4, test_t3, 1)\n",
    "df_t3_predict = pd.DataFrame(list(pred_d3.values())[0])\n",
    "df_t3_predict['patients'] = list(df[df.index.isin(list(test_t3.index))]['Unnamed: 0'])\n",
    "df_t3_predict.to_csv('df_t3_predict_without_durdis.csv')"
   ]
  },
  {
   "cell_type": "code",
   "execution_count": null,
   "id": "26460973",
   "metadata": {},
   "outputs": [],
   "source": [
    "#Считаем ментрики точности для разных моделей\n",
    "def dur_df(test, n):\n",
    "    #t3\n",
    "    predictions_mi = pd.read_csv(f'df_t{n}_predict_without_durdis.csv',index_col = [0]).drop(columns = ['patients'])\n",
    "    columns = [f'result', f'duration_treatment']\n",
    "    validY = test[columns]\n",
    "    validX = test.drop(columns, axis=1)\n",
    "    for column in columns:\n",
    "        if column == f'result':\n",
    "            print(f\"{column: <25} Accuracy:  {accuracy_score(validY[column], predictions_mi[column])}\")\n",
    "            print(f\"{column: <25} F1 score:  {f1_score(validY[column], predictions_mi[column], average='weighted')}\")\n",
    "        else:\n",
    "            print(f\"{column: <25} MAE:  {mean_absolute_error(validY[column], predictions_mi[column])}\")\n",
    "    df_graph = pd.DataFrame()\n",
    "    df_graph['duration_treatment_true'] = validY['duration_treatment'].values\n",
    "    df_graph['duration_treatment_pred'] = predictions_mi['duration_treatment'].values\n",
    "    return pd.DataFrame(df_graph,columns = ['duration_treatment_true','duration_treatment_pred'])"
   ]
  },
  {
   "cell_type": "code",
   "execution_count": null,
   "id": "0a96eb16",
   "metadata": {},
   "outputs": [],
   "source": [
    "dur_df_t0 = dur_df(test_t0,0)\n",
    "\n",
    "dur_df_t1 = dur_df(test_t1,1)\n",
    "dur_df_t2 = dur_df(test_t2,2)\n",
    "dur_df_t3 = dur_df(test_t3,3)"
   ]
  },
  {
   "cell_type": "code",
   "execution_count": null,
   "id": "90643b60",
   "metadata": {},
   "outputs": [],
   "source": [
    "#Добавляем к df временной интервал\n",
    "dur_df_t0['t'] = 't0'\n",
    "dur_df_t1['t'] = 't1' \n",
    "dur_df_t2['t'] = 't2'\n",
    "dur_df_t3['t'] = 't3'"
   ]
  },
  {
   "cell_type": "code",
   "execution_count": null,
   "id": "4f9ec325",
   "metadata": {},
   "outputs": [],
   "source": [
    "#Соединяем получвшиеся прогнозы в один df\n",
    "sum_df_dur = pd.concat([pd.concat([dur_df_t0,dur_df_t1]),pd.concat([dur_df_t2,dur_df_t3])])"
   ]
  },
  {
   "cell_type": "code",
   "execution_count": null,
   "id": "16c1a078",
   "metadata": {},
   "outputs": [],
   "source": [
    "#Проверяем совпадает ли длинна\n",
    "dur_df_t0.shape[0] + dur_df_t1.shape[0] + dur_df_t2.shape[0] + dur_df_t3.shape[0]"
   ]
  },
  {
   "cell_type": "code",
   "execution_count": null,
   "id": "ee722865",
   "metadata": {},
   "outputs": [],
   "source": [
    "sum_df_dur"
   ]
  },
  {
   "cell_type": "code",
   "execution_count": null,
   "id": "d90ed51f",
   "metadata": {},
   "outputs": [],
   "source": [
    "#На основе df, рисуем Violin_plots по Duration_treatment\n",
    "\n",
    "import plotly.graph_objects as go\n",
    "\n",
    "import pandas as pd\n",
    "\n",
    "df = sum_df_dur.copy()\n",
    "\n",
    "fig = go.Figure()\n",
    "\n",
    "fig.add_trace(go.Violin(x = df['t'],\n",
    "                        y=df['duration_treatment_true'],\n",
    "                        legendgroup='True_values', scalegroup='Yes', name='Real duration',\n",
    "                        side='negative',\n",
    "                        line_color='blue')\n",
    "             )\n",
    "fig.add_trace(go.Violin(x = df['t'],\n",
    "                        y=df['duration_treatment_pred'],\n",
    "                        legendgroup='Predict_values', scalegroup='Yes', name='Predict duration',\n",
    "                        line_color='orange')\n",
    "             )\n",
    "fig.update_traces(meanline_visible=True)\n",
    "fig.update_layout(violingap=0, violinmode='overlay',autosize=True)\n",
    "fig.show('notebook')"
   ]
  },
  {
   "cell_type": "code",
   "execution_count": null,
   "id": "1e9ccc46",
   "metadata": {},
   "outputs": [],
   "source": [
    "fig.write_html('plotly_duration_last.html')"
   ]
  }
 ],
 "metadata": {
  "kernelspec": {
   "display_name": "Python 3 (ipykernel)",
   "language": "python",
   "name": "python3"
  },
  "language_info": {
   "codemirror_mode": {
    "name": "ipython",
    "version": 3
   },
   "file_extension": ".py",
   "mimetype": "text/x-python",
   "name": "python",
   "nbconvert_exporter": "python",
   "pygments_lexer": "ipython3",
   "version": "3.9.12"
  }
 },
 "nbformat": 4,
 "nbformat_minor": 5
}
